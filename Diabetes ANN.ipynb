{
 "cells": [
  {
   "cell_type": "code",
   "execution_count": 33,
   "metadata": {},
   "outputs": [],
   "source": [
    "#Importing the Libraries\n",
    "import numpy as np\n",
    "import pandas as pd\n",
    "import matplotlib.pyplot as plt\n",
    "import seaborn as sns\n",
    "%matplotlib inline"
   ]
  },
  {
   "cell_type": "code",
   "execution_count": 56,
   "metadata": {},
   "outputs": [],
   "source": [
    "#importing the dataset\n",
    "dataset=pd.read_csv('diabetes.csv')"
   ]
  },
  {
   "cell_type": "code",
   "execution_count": 35,
   "metadata": {},
   "outputs": [
    {
     "data": {
      "text/html": [
       "<div>\n",
       "<style scoped>\n",
       "    .dataframe tbody tr th:only-of-type {\n",
       "        vertical-align: middle;\n",
       "    }\n",
       "\n",
       "    .dataframe tbody tr th {\n",
       "        vertical-align: top;\n",
       "    }\n",
       "\n",
       "    .dataframe thead th {\n",
       "        text-align: right;\n",
       "    }\n",
       "</style>\n",
       "<table border=\"1\" class=\"dataframe\">\n",
       "  <thead>\n",
       "    <tr style=\"text-align: right;\">\n",
       "      <th></th>\n",
       "      <th>Pregnancies</th>\n",
       "      <th>Glucose</th>\n",
       "      <th>BloodPressure</th>\n",
       "      <th>SkinThickness</th>\n",
       "      <th>Insulin</th>\n",
       "      <th>BMI</th>\n",
       "      <th>DiabetesPedigreeFunction</th>\n",
       "      <th>Age</th>\n",
       "      <th>Outcome</th>\n",
       "    </tr>\n",
       "  </thead>\n",
       "  <tbody>\n",
       "    <tr>\n",
       "      <th>0</th>\n",
       "      <td>6</td>\n",
       "      <td>148</td>\n",
       "      <td>72</td>\n",
       "      <td>35</td>\n",
       "      <td>0</td>\n",
       "      <td>33.6</td>\n",
       "      <td>0.627</td>\n",
       "      <td>50</td>\n",
       "      <td>1</td>\n",
       "    </tr>\n",
       "    <tr>\n",
       "      <th>1</th>\n",
       "      <td>1</td>\n",
       "      <td>85</td>\n",
       "      <td>66</td>\n",
       "      <td>29</td>\n",
       "      <td>0</td>\n",
       "      <td>26.6</td>\n",
       "      <td>0.351</td>\n",
       "      <td>31</td>\n",
       "      <td>0</td>\n",
       "    </tr>\n",
       "    <tr>\n",
       "      <th>2</th>\n",
       "      <td>8</td>\n",
       "      <td>183</td>\n",
       "      <td>64</td>\n",
       "      <td>0</td>\n",
       "      <td>0</td>\n",
       "      <td>23.3</td>\n",
       "      <td>0.672</td>\n",
       "      <td>32</td>\n",
       "      <td>1</td>\n",
       "    </tr>\n",
       "    <tr>\n",
       "      <th>3</th>\n",
       "      <td>1</td>\n",
       "      <td>89</td>\n",
       "      <td>66</td>\n",
       "      <td>23</td>\n",
       "      <td>94</td>\n",
       "      <td>28.1</td>\n",
       "      <td>0.167</td>\n",
       "      <td>21</td>\n",
       "      <td>0</td>\n",
       "    </tr>\n",
       "    <tr>\n",
       "      <th>4</th>\n",
       "      <td>0</td>\n",
       "      <td>137</td>\n",
       "      <td>40</td>\n",
       "      <td>35</td>\n",
       "      <td>168</td>\n",
       "      <td>43.1</td>\n",
       "      <td>2.288</td>\n",
       "      <td>33</td>\n",
       "      <td>1</td>\n",
       "    </tr>\n",
       "  </tbody>\n",
       "</table>\n",
       "</div>"
      ],
      "text/plain": [
       "   Pregnancies  Glucose  BloodPressure  SkinThickness  Insulin   BMI  \\\n",
       "0            6      148             72             35        0  33.6   \n",
       "1            1       85             66             29        0  26.6   \n",
       "2            8      183             64              0        0  23.3   \n",
       "3            1       89             66             23       94  28.1   \n",
       "4            0      137             40             35      168  43.1   \n",
       "\n",
       "   DiabetesPedigreeFunction  Age  Outcome  \n",
       "0                     0.627   50        1  \n",
       "1                     0.351   31        0  \n",
       "2                     0.672   32        1  \n",
       "3                     0.167   21        0  \n",
       "4                     2.288   33        1  "
      ]
     },
     "execution_count": 35,
     "metadata": {},
     "output_type": "execute_result"
    }
   ],
   "source": [
    "#Checking the head of our dataset\n",
    "dataset.head()"
   ]
  },
  {
   "cell_type": "code",
   "execution_count": 36,
   "metadata": {},
   "outputs": [
    {
     "name": "stdout",
     "output_type": "stream",
     "text": [
      "<class 'pandas.core.frame.DataFrame'>\n",
      "RangeIndex: 768 entries, 0 to 767\n",
      "Data columns (total 9 columns):\n",
      "Pregnancies                 768 non-null int64\n",
      "Glucose                     768 non-null int64\n",
      "BloodPressure               768 non-null int64\n",
      "SkinThickness               768 non-null int64\n",
      "Insulin                     768 non-null int64\n",
      "BMI                         768 non-null float64\n",
      "DiabetesPedigreeFunction    768 non-null float64\n",
      "Age                         768 non-null int64\n",
      "Outcome                     768 non-null int64\n",
      "dtypes: float64(2), int64(7)\n",
      "memory usage: 54.1 KB\n"
     ]
    }
   ],
   "source": [
    "#checking the structure of our dataset by using the .info function\n",
    "dataset.info()"
   ]
  },
  {
   "cell_type": "raw",
   "metadata": {},
   "source": [
    "EDA(Explotory Data Analysis)"
   ]
  },
  {
   "cell_type": "code",
   "execution_count": 37,
   "metadata": {},
   "outputs": [
    {
     "data": {
      "text/plain": [
       "<matplotlib.axes._subplots.AxesSubplot at 0x1a1c05dedd8>"
      ]
     },
     "execution_count": 37,
     "metadata": {},
     "output_type": "execute_result"
    },
    {
     "data": {
      "image/png": "[encoded data removed]",
      "text/plain": [
       "<Figure size 432x288 with 1 Axes>"
      ]
     },
     "metadata": {
      "needs_background": "light"
     },
     "output_type": "display_data"
    }
   ],
   "source": [
    "#Analysing the Number of 1-outcomes and number of 0-outcome\n",
    "sns.countplot(dataset['Outcome'])"
   ]
  },
  {
   "cell_type": "code",
   "execution_count": 38,
   "metadata": {},
   "outputs": [
    {
     "data": {
      "text/plain": [
       "<matplotlib.axes._subplots.AxesSubplot at 0x1a1c172f7f0>"
      ]
     },
     "execution_count": 38,
     "metadata": {},
     "output_type": "execute_result"
    },
    {
     "data": {
      "image/png": "[encoded data removed]",
      "text/plain": [
       "<Figure size 432x288 with 1 Axes>"
      ]
     },
     "metadata": {
      "needs_background": "light"
     },
     "output_type": "display_data"
    }
   ],
   "source": [
    "#Box plot -For checking the Mean Pregrancies of a person depending upon whether a person have \n",
    "#diabetes or not\n",
    "sns.boxplot(dataset['Outcome'],dataset['Pregnancies'])"
   ]
  },
  {
   "cell_type": "code",
   "execution_count": 39,
   "metadata": {},
   "outputs": [
    {
     "data": {
      "text/plain": [
       "<matplotlib.axes._subplots.AxesSubplot at 0x1a1c1786e48>"
      ]
     },
     "execution_count": 39,
     "metadata": {},
     "output_type": "execute_result"
    },
    {
     "data": {
      "image/png": "[encoded data removed]",
      "text/plain": [
       "<Figure size 432x288 with 1 Axes>"
      ]
     },
     "metadata": {
      "needs_background": "light"
     },
     "output_type": "display_data"
    }
   ],
   "source": [
    "#Box plot -For checking the Mean BMI of a person depending upon whether a person have \n",
    "#diabetes or not\n",
    "sns.boxplot(dataset['Outcome'],dataset['BMI'],palette='Set2')"
   ]
  },
  {
   "cell_type": "code",
   "execution_count": 41,
   "metadata": {},
   "outputs": [
    {
     "data": {
      "text/plain": [
       "<matplotlib.axes._subplots.AxesSubplot at 0x1a1c18704e0>"
      ]
     },
     "execution_count": 41,
     "metadata": {},
     "output_type": "execute_result"
    },
    {
     "data": {
      "image/png": "[encoded data removed]",
      "text/plain": [
       "<Figure size 432x288 with 1 Axes>"
      ]
     },
     "metadata": {
      "needs_background": "light"
     },
     "output_type": "display_data"
    }
   ],
   "source": [
    "#Box plot -For checking the Average Pregrancies of a person depending upon whether a person\n",
    "#have diabetes or not\n",
    "sns.boxplot(dataset['Outcome'],dataset['Age'],palette='Set1')"
   ]
  },
  {
   "cell_type": "code",
   "execution_count": 184,
   "metadata": {},
   "outputs": [
    {
     "data": {
      "text/plain": [
       "<matplotlib.axes._subplots.AxesSubplot at 0x1a1ce25bd68>"
      ]
     },
     "execution_count": 184,
     "metadata": {},
     "output_type": "execute_result"
    },
    {
     "data": {
      "image/png": "[encoded data removed]",
      "text/plain": [
       "<Figure size 432x288 with 1 Axes>"
      ]
     },
     "metadata": {
      "needs_background": "light"
     },
     "output_type": "display_data"
    }
   ],
   "source": [
    "#Box plot -For checking the Average Blood Pressure of a person depending upon whether a person\n",
    "#have diabetes or not\n",
    "sns.boxplot(dataset['Outcome'],dataset['BloodPressure'],palette='Set1')"
   ]
  },
  {
   "cell_type": "code",
   "execution_count": 188,
   "metadata": {},
   "outputs": [
    {
     "data": {
      "text/plain": [
       "<matplotlib.axes._subplots.AxesSubplot at 0x1a1ce3a2cf8>"
      ]
     },
     "execution_count": 188,
     "metadata": {},
     "output_type": "execute_result"
    },
    {
     "data": {
      "image/png": "[encoded data removed]",
      "text/plain": [
       "<Figure size 432x288 with 1 Axes>"
      ]
     },
     "metadata": {
      "needs_background": "light"
     },
     "output_type": "display_data"
    }
   ],
   "source": [
    "#Box plot -For checking the Average Glucose of a person depending upon whether a person\n",
    "#have diabetes or not\n",
    "sns.boxplot(dataset['Outcome'],dataset['Glucose'],palette='Set2')"
   ]
  },
  {
   "cell_type": "code",
   "execution_count": 189,
   "metadata": {},
   "outputs": [
    {
     "data": {
      "text/plain": [
       "<matplotlib.axes._subplots.AxesSubplot at 0x1a1ce4352e8>"
      ]
     },
     "execution_count": 189,
     "metadata": {},
     "output_type": "execute_result"
    },
    {
     "data": {
      "image/png": "[encoded data removed]",
      "text/plain": [
       "<Figure size 432x288 with 1 Axes>"
      ]
     },
     "metadata": {
      "needs_background": "light"
     },
     "output_type": "display_data"
    }
   ],
   "source": [
    "#Box plot -For checking the Average Skin Thickness of a person depending upon whether a person\n",
    "#have diabetes or not\n",
    "sns.boxplot(dataset['Outcome'],dataset['SkinThickness'],palette='Set3')"
   ]
  },
  {
   "cell_type": "code",
   "execution_count": 46,
   "metadata": {},
   "outputs": [
    {
     "data": {
      "text/plain": [
       "<matplotlib.axes._subplots.AxesSubplot at 0x1a1c1c0d5c0>"
      ]
     },
     "execution_count": 46,
     "metadata": {},
     "output_type": "execute_result"
    },
    {
     "data": {
      "image/png": "[encoded data removed]",
      "text/plain": [
       "<Figure size 864x432 with 1 Axes>"
      ]
     },
     "metadata": {
      "needs_background": "light"
     },
     "output_type": "display_data"
    }
   ],
   "source": [
    "#For checking if our dataset have any null value or not\n",
    "fig=plt.subplots(figsize=(12,6))\n",
    "sns.heatmap(dataset.isnull(),cmap='viridis',yticklabels=False,cbar=False)"
   ]
  },
  {
   "cell_type": "code",
   "execution_count": 61,
   "metadata": {},
   "outputs": [],
   "source": [
    "#divind the data into X and y(target column) \n",
    "X=dataset.drop('Outcome',axis=1)\n",
    "y=dataset['Outcome']"
   ]
  },
  {
   "cell_type": "code",
   "execution_count": 64,
   "metadata": {},
   "outputs": [],
   "source": [
    "#Dividing the dataset into training set and test set\n",
    "from sklearn.model_selection import train_test_split\n",
    "X_train, X_test, y_train, y_test = train_test_split(X, y, test_size=0.3)"
   ]
  },
  {
   "cell_type": "code",
   "execution_count": 72,
   "metadata": {},
   "outputs": [],
   "source": [
    "#Feature Scaling\n",
    "from sklearn.preprocessing import StandardScaler\n",
    "Scaler=StandardScaler()\n",
    "X_train=Scaler.fit_transform(X_train)\n",
    "X_test=Scaler.transform(X_test)"
   ]
  },
  {
   "cell_type": "code",
   "execution_count": 138,
   "metadata": {},
   "outputs": [],
   "source": [
    "#Importing the libraries required for buliding the Artifical Neural Network(ANN) model\n",
    "from keras.models import Sequential\n",
    "from keras.layers import Dense\n",
    "from keras.layers import Dropout"
   ]
  },
  {
   "cell_type": "code",
   "execution_count": 172,
   "metadata": {},
   "outputs": [],
   "source": [
    "#Intialising the Ann Model\n",
    "model=Sequential()"
   ]
  },
  {
   "cell_type": "code",
   "execution_count": 173,
   "metadata": {},
   "outputs": [],
   "source": [
    "#Making the First Layer of Our ANN Model\n",
    "model.add(Dense(units=4,kernel_initializer='uniform',activation='relu',input_dim=8))\n",
    "model.add(Dropout(2))"
   ]
  },
  {
   "cell_type": "code",
   "execution_count": 174,
   "metadata": {},
   "outputs": [],
   "source": [
    "#Making the Second Layer of Our ANN Model\n",
    "model.add(Dense(units=4,kernel_initializer='uniform',activation='relu'))\n",
    "model.add(Dropout(2))"
   ]
  },
  {
   "cell_type": "code",
   "execution_count": 175,
   "metadata": {},
   "outputs": [],
   "source": [
    "#Making the Third Layer of Our ANN Model\n",
    "model.add(Dense(units=4,kernel_initializer='uniform',activation='relu'))\n",
    "model.add(Dropout(2))"
   ]
  },
  {
   "cell_type": "code",
   "execution_count": 176,
   "metadata": {},
   "outputs": [],
   "source": [
    "#Making the Output layer \n",
    "model.add(Dense(units=1,kernel_initializer='uniform',activation='sigmoid'))"
   ]
  },
  {
   "cell_type": "code",
   "execution_count": 177,
   "metadata": {},
   "outputs": [],
   "source": [
    "#Compiling the layer\n",
    "model.compile(optimizer='adam',loss='binary_crossentropy',metrics=['accuracy'])"
   ]
  },
  {
   "cell_type": "code",
   "execution_count": 178,
   "metadata": {},
   "outputs": [
    {
     "name": "stdout",
     "output_type": "stream",
     "text": [
      "Epoch 1/400\n",
      "537/537 [==============================] - 1s 1ms/step - loss: 0.6910 - acc: 0.6648\n",
      "Epoch 2/400\n",
      "537/537 [==============================] - 0s 99us/step - loss: 0.6866 - acc: 0.6648\n",
      "Epoch 3/400\n",
      "537/537 [==============================] - 0s 93us/step - loss: 0.6811 - acc: 0.6648\n",
      "Epoch 4/400\n",
      "537/537 [==============================] - 0s 121us/step - loss: 0.6724 - acc: 0.6648\n",
      "Epoch 5/400\n",
      "537/537 [==============================] - 0s 114us/step - loss: 0.6584 - acc: 0.6648\n",
      "Epoch 6/400\n",
      "537/537 [==============================] - 0s 93us/step - loss: 0.6354 - acc: 0.6648\n",
      "Epoch 7/400\n",
      "537/537 [==============================] - 0s 108us/step - loss: 0.6037 - acc: 0.6648\n",
      "Epoch 8/400\n",
      "537/537 [==============================] - 0s 119us/step - loss: 0.5693 - acc: 0.6648\n",
      "Epoch 9/400\n",
      "537/537 [==============================] - 0s 106us/step - loss: 0.5418 - acc: 0.6648\n",
      "Epoch 10/400\n",
      "537/537 [==============================] - 0s 114us/step - loss: 0.5249 - acc: 0.6648\n",
      "Epoch 11/400\n",
      "537/537 [==============================] - 0s 89us/step - loss: 0.5145 - acc: 0.6648\n",
      "Epoch 12/400\n",
      "537/537 [==============================] - 0s 114us/step - loss: 0.5081 - acc: 0.6648\n",
      "Epoch 13/400\n",
      "537/537 [==============================] - 0s 121us/step - loss: 0.5019 - acc: 0.6648\n",
      "Epoch 14/400\n",
      "537/537 [==============================] - 0s 123us/step - loss: 0.4973 - acc: 0.6648\n",
      "Epoch 15/400\n",
      "537/537 [==============================] - 0s 115us/step - loss: 0.4941 - acc: 0.6648\n",
      "Epoch 16/400\n",
      "537/537 [==============================] - 0s 115us/step - loss: 0.4901 - acc: 0.6648\n",
      "Epoch 17/400\n",
      "537/537 [==============================] - 0s 104us/step - loss: 0.4866 - acc: 0.6648\n",
      "Epoch 18/400\n",
      "537/537 [==============================] - 0s 110us/step - loss: 0.4840 - acc: 0.6648\n",
      "Epoch 19/400\n",
      "537/537 [==============================] - 0s 99us/step - loss: 0.4824 - acc: 0.6685\n",
      "Epoch 20/400\n",
      "537/537 [==============================] - 0s 91us/step - loss: 0.4804 - acc: 0.7970\n",
      "Epoch 21/400\n",
      "537/537 [==============================] - 0s 99us/step - loss: 0.4790 - acc: 0.7952\n",
      "Epoch 22/400\n",
      "537/537 [==============================] - 0s 106us/step - loss: 0.4773 - acc: 0.8007\n",
      "Epoch 23/400\n",
      "537/537 [==============================] - 0s 93us/step - loss: 0.4774 - acc: 0.8045\n",
      "Epoch 24/400\n",
      "537/537 [==============================] - 0s 112us/step - loss: 0.4748 - acc: 0.8026\n",
      "Epoch 25/400\n",
      "537/537 [==============================] - 0s 99us/step - loss: 0.4735 - acc: 0.8063\n",
      "Epoch 26/400\n",
      "537/537 [==============================] - 0s 95us/step - loss: 0.4719 - acc: 0.8119\n",
      "Epoch 27/400\n",
      "537/537 [==============================] - 0s 143us/step - loss: 0.4708 - acc: 0.8101\n",
      "Epoch 28/400\n",
      "537/537 [==============================] - 0s 154us/step - loss: 0.4696 - acc: 0.8101\n",
      "Epoch 29/400\n",
      "537/537 [==============================] - 0s 128us/step - loss: 0.4683 - acc: 0.8119\n",
      "Epoch 30/400\n",
      "537/537 [==============================] - 0s 100us/step - loss: 0.4675 - acc: 0.8082\n",
      "Epoch 31/400\n",
      "537/537 [==============================] - 0s 95us/step - loss: 0.4669 - acc: 0.8101\n",
      "Epoch 32/400\n",
      "537/537 [==============================] - 0s 93us/step - loss: 0.4651 - acc: 0.8119\n",
      "Epoch 33/400\n",
      "537/537 [==============================] - 0s 102us/step - loss: 0.4637 - acc: 0.8101\n",
      "Epoch 34/400\n",
      "537/537 [==============================] - 0s 97us/step - loss: 0.4625 - acc: 0.8101\n",
      "Epoch 35/400\n",
      "537/537 [==============================] - 0s 95us/step - loss: 0.4616 - acc: 0.8119\n",
      "Epoch 36/400\n",
      "537/537 [==============================] - 0s 121us/step - loss: 0.4603 - acc: 0.8119\n",
      "Epoch 37/400\n",
      "537/537 [==============================] - 0s 123us/step - loss: 0.4595 - acc: 0.8138\n",
      "Epoch 38/400\n",
      "537/537 [==============================] - 0s 119us/step - loss: 0.4587 - acc: 0.8119\n",
      "Epoch 39/400\n",
      "537/537 [==============================] - 0s 127us/step - loss: 0.4574 - acc: 0.8119\n",
      "Epoch 40/400\n",
      "537/537 [==============================] - 0s 141us/step - loss: 0.4568 - acc: 0.8138\n",
      "Epoch 41/400\n",
      "537/537 [==============================] - 0s 171us/step - loss: 0.4562 - acc: 0.8138\n",
      "Epoch 42/400\n",
      "537/537 [==============================] - 0s 162us/step - loss: 0.4548 - acc: 0.8156\n",
      "Epoch 43/400\n",
      "537/537 [==============================] - 0s 192us/step - loss: 0.4540 - acc: 0.8119\n",
      "Epoch 44/400\n",
      "537/537 [==============================] - 0s 194us/step - loss: 0.4536 - acc: 0.8119\n",
      "Epoch 45/400\n",
      "537/537 [==============================] - 0s 177us/step - loss: 0.4526 - acc: 0.8119\n",
      "Epoch 46/400\n",
      "537/537 [==============================] - 0s 151us/step - loss: 0.4516 - acc: 0.8138\n",
      "Epoch 47/400\n",
      "537/537 [==============================] - 0s 151us/step - loss: 0.4509 - acc: 0.8138\n",
      "Epoch 48/400\n",
      "537/537 [==============================] - 0s 138us/step - loss: 0.4503 - acc: 0.8119\n",
      "Epoch 49/400\n",
      "537/537 [==============================] - ETA: 0s - loss: 0.4420 - acc: 0.807 - 0s 162us/step - loss: 0.4497 - acc: 0.8119\n",
      "Epoch 50/400\n",
      "537/537 [==============================] - 0s 207us/step - loss: 0.4494 - acc: 0.8156\n",
      "Epoch 51/400\n",
      "537/537 [==============================] - 0s 227us/step - loss: 0.4487 - acc: 0.8119\n",
      "Epoch 52/400\n",
      "537/537 [==============================] - 0s 93us/step - loss: 0.4477 - acc: 0.8138\n",
      "Epoch 53/400\n",
      "537/537 [==============================] - 0s 117us/step - loss: 0.4469 - acc: 0.8119\n",
      "Epoch 54/400\n",
      "537/537 [==============================] - 0s 128us/step - loss: 0.4467 - acc: 0.8119\n",
      "Epoch 55/400\n",
      "537/537 [==============================] - 0s 91us/step - loss: 0.4459 - acc: 0.8138\n",
      "Epoch 56/400\n",
      "537/537 [==============================] - 0s 82us/step - loss: 0.4452 - acc: 0.8138\n",
      "Epoch 57/400\n",
      "537/537 [==============================] - 0s 73us/step - loss: 0.4451 - acc: 0.8156\n",
      "Epoch 58/400\n",
      "537/537 [==============================] - 0s 69us/step - loss: 0.4439 - acc: 0.8138\n",
      "Epoch 59/400\n",
      "537/537 [==============================] - 0s 74us/step - loss: 0.4434 - acc: 0.8138\n",
      "Epoch 60/400\n",
      "537/537 [==============================] - 0s 69us/step - loss: 0.4432 - acc: 0.8156\n",
      "Epoch 61/400\n",
      "537/537 [==============================] - 0s 69us/step - loss: 0.4423 - acc: 0.8101\n",
      "Epoch 62/400\n",
      "537/537 [==============================] - 0s 74us/step - loss: 0.4417 - acc: 0.8138\n",
      "Epoch 63/400\n",
      "537/537 [==============================] - 0s 69us/step - loss: 0.4414 - acc: 0.8138\n",
      "Epoch 64/400\n",
      "537/537 [==============================] - 0s 76us/step - loss: 0.4406 - acc: 0.8138\n",
      "Epoch 65/400\n",
      "537/537 [==============================] - 0s 73us/step - loss: 0.4400 - acc: 0.8156\n",
      "Epoch 66/400\n",
      "537/537 [==============================] - 0s 91us/step - loss: 0.4397 - acc: 0.8138\n",
      "Epoch 67/400\n",
      "537/537 [==============================] - 0s 93us/step - loss: 0.4387 - acc: 0.8156\n",
      "Epoch 68/400\n",
      "537/537 [==============================] - 0s 110us/step - loss: 0.4385 - acc: 0.8175\n",
      "Epoch 69/400\n",
      "537/537 [==============================] - 0s 89us/step - loss: 0.4381 - acc: 0.8138\n",
      "Epoch 70/400\n",
      "537/537 [==============================] - 0s 108us/step - loss: 0.4373 - acc: 0.8194\n",
      "Epoch 71/400\n",
      "537/537 [==============================] - 0s 125us/step - loss: 0.4369 - acc: 0.8194\n",
      "Epoch 72/400\n",
      "537/537 [==============================] - 0s 101us/step - loss: 0.4367 - acc: 0.8194\n",
      "Epoch 73/400\n",
      "537/537 [==============================] - 0s 74us/step - loss: 0.4363 - acc: 0.8175\n",
      "Epoch 74/400\n",
      "537/537 [==============================] - 0s 76us/step - loss: 0.4359 - acc: 0.8194\n",
      "Epoch 75/400\n",
      "537/537 [==============================] - 0s 78us/step - loss: 0.4353 - acc: 0.8156\n",
      "Epoch 76/400\n",
      "537/537 [==============================] - 0s 87us/step - loss: 0.4348 - acc: 0.8194\n",
      "Epoch 77/400\n",
      "537/537 [==============================] - 0s 91us/step - loss: 0.4344 - acc: 0.8138\n",
      "Epoch 78/400\n",
      "537/537 [==============================] - 0s 99us/step - loss: 0.4344 - acc: 0.8119\n",
      "Epoch 79/400\n",
      "537/537 [==============================] - 0s 97us/step - loss: 0.4337 - acc: 0.8138\n",
      "Epoch 80/400\n",
      "537/537 [==============================] - 0s 101us/step - loss: 0.4335 - acc: 0.8119\n",
      "Epoch 81/400\n",
      "537/537 [==============================] - 0s 128us/step - loss: 0.4332 - acc: 0.8175\n",
      "Epoch 82/400\n",
      "537/537 [==============================] - 0s 143us/step - loss: 0.4333 - acc: 0.8138\n",
      "Epoch 83/400\n",
      "537/537 [==============================] - 0s 130us/step - loss: 0.4321 - acc: 0.8175\n",
      "Epoch 84/400\n",
      "537/537 [==============================] - 0s 99us/step - loss: 0.4321 - acc: 0.8175\n",
      "Epoch 85/400\n",
      "537/537 [==============================] - 0s 69us/step - loss: 0.4318 - acc: 0.8175\n",
      "Epoch 86/400\n",
      "537/537 [==============================] - 0s 73us/step - loss: 0.4312 - acc: 0.8156\n",
      "Epoch 87/400\n",
      "537/537 [==============================] - 0s 69us/step - loss: 0.4310 - acc: 0.8138\n",
      "Epoch 88/400\n",
      "537/537 [==============================] - 0s 76us/step - loss: 0.4312 - acc: 0.8119\n",
      "Epoch 89/400\n",
      "537/537 [==============================] - 0s 67us/step - loss: 0.4310 - acc: 0.8156\n",
      "Epoch 90/400\n",
      "537/537 [==============================] - 0s 86us/step - loss: 0.4303 - acc: 0.8138\n",
      "Epoch 91/400\n",
      "537/537 [==============================] - 0s 69us/step - loss: 0.4298 - acc: 0.8156\n",
      "Epoch 92/400\n",
      "537/537 [==============================] - 0s 91us/step - loss: 0.4297 - acc: 0.8119\n",
      "Epoch 93/400\n",
      "537/537 [==============================] - 0s 99us/step - loss: 0.4294 - acc: 0.8138\n",
      "Epoch 94/400\n",
      "537/537 [==============================] - 0s 128us/step - loss: 0.4293 - acc: 0.8138\n",
      "Epoch 95/400\n",
      "537/537 [==============================] - 0s 117us/step - loss: 0.4292 - acc: 0.8138\n",
      "Epoch 96/400\n",
      "537/537 [==============================] - 0s 86us/step - loss: 0.4286 - acc: 0.8138\n",
      "Epoch 97/400\n",
      "537/537 [==============================] - 0s 104us/step - loss: 0.4287 - acc: 0.8138\n",
      "Epoch 98/400\n",
      "537/537 [==============================] - 0s 97us/step - loss: 0.4285 - acc: 0.8138\n",
      "Epoch 99/400\n",
      "537/537 [==============================] - 0s 80us/step - loss: 0.4286 - acc: 0.8138\n",
      "Epoch 100/400\n",
      "537/537 [==============================] - 0s 153us/step - loss: 0.4278 - acc: 0.8119\n",
      "Epoch 101/400\n",
      "537/537 [==============================] - 0s 106us/step - loss: 0.4278 - acc: 0.8119\n",
      "Epoch 102/400\n",
      "537/537 [==============================] - 0s 74us/step - loss: 0.4275 - acc: 0.8138\n",
      "Epoch 103/400\n",
      "537/537 [==============================] - 0s 86us/step - loss: 0.4279 - acc: 0.8082\n",
      "Epoch 104/400\n",
      "537/537 [==============================] - 0s 82us/step - loss: 0.4272 - acc: 0.8101\n",
      "Epoch 105/400\n",
      "537/537 [==============================] - 0s 73us/step - loss: 0.4268 - acc: 0.8119\n",
      "Epoch 106/400\n",
      "537/537 [==============================] - 0s 69us/step - loss: 0.4267 - acc: 0.8156\n",
      "Epoch 107/400\n",
      "537/537 [==============================] - 0s 71us/step - loss: 0.4269 - acc: 0.8101\n",
      "Epoch 108/400\n",
      "537/537 [==============================] - 0s 67us/step - loss: 0.4265 - acc: 0.8082\n",
      "Epoch 109/400\n",
      "537/537 [==============================] - 0s 71us/step - loss: 0.4259 - acc: 0.8119\n",
      "Epoch 110/400\n",
      "537/537 [==============================] - 0s 112us/step - loss: 0.4255 - acc: 0.8101\n",
      "Epoch 111/400\n",
      "537/537 [==============================] - 0s 101us/step - loss: 0.4255 - acc: 0.8082\n",
      "Epoch 112/400\n",
      "537/537 [==============================] - 0s 78us/step - loss: 0.4253 - acc: 0.8063\n",
      "Epoch 113/400\n",
      "537/537 [==============================] - 0s 87us/step - loss: 0.4257 - acc: 0.8045\n",
      "Epoch 114/400\n",
      "537/537 [==============================] - 0s 93us/step - loss: 0.4250 - acc: 0.8063\n",
      "Epoch 115/400\n",
      "537/537 [==============================] - 0s 119us/step - loss: 0.4244 - acc: 0.8063\n",
      "Epoch 116/400\n",
      "537/537 [==============================] - 0s 119us/step - loss: 0.4241 - acc: 0.8082\n",
      "Epoch 117/400\n",
      "537/537 [==============================] - 0s 69us/step - loss: 0.4244 - acc: 0.8063\n",
      "Epoch 118/400\n",
      "537/537 [==============================] - 0s 63us/step - loss: 0.4239 - acc: 0.8082\n",
      "Epoch 119/400\n",
      "537/537 [==============================] - 0s 69us/step - loss: 0.4237 - acc: 0.8063\n",
      "Epoch 120/400\n",
      "537/537 [==============================] - 0s 74us/step - loss: 0.4233 - acc: 0.8082\n",
      "Epoch 121/400\n",
      "537/537 [==============================] - 0s 63us/step - loss: 0.4234 - acc: 0.8082\n",
      "Epoch 122/400\n",
      "537/537 [==============================] - 0s 65us/step - loss: 0.4226 - acc: 0.8082\n",
      "Epoch 123/400\n",
      "537/537 [==============================] - 0s 84us/step - loss: 0.4224 - acc: 0.8101\n",
      "Epoch 124/400\n",
      "537/537 [==============================] - 0s 73us/step - loss: 0.4227 - acc: 0.8082\n",
      "Epoch 125/400\n",
      "537/537 [==============================] - 0s 80us/step - loss: 0.4223 - acc: 0.8082\n",
      "Epoch 126/400\n",
      "537/537 [==============================] - 0s 70us/step - loss: 0.4220 - acc: 0.8082\n",
      "Epoch 127/400\n",
      "537/537 [==============================] - 0s 80us/step - loss: 0.4218 - acc: 0.8082\n",
      "Epoch 128/400\n",
      "537/537 [==============================] - 0s 65us/step - loss: 0.4225 - acc: 0.8045\n",
      "Epoch 129/400\n",
      "537/537 [==============================] - 0s 69us/step - loss: 0.4214 - acc: 0.8063\n",
      "Epoch 130/400\n",
      "537/537 [==============================] - 0s 78us/step - loss: 0.4210 - acc: 0.8082\n",
      "Epoch 131/400\n",
      "537/537 [==============================] - 0s 67us/step - loss: 0.4206 - acc: 0.8082\n",
      "Epoch 132/400\n",
      "537/537 [==============================] - 0s 80us/step - loss: 0.4207 - acc: 0.8082\n",
      "Epoch 133/400\n",
      "537/537 [==============================] - 0s 71us/step - loss: 0.4205 - acc: 0.8082\n",
      "Epoch 134/400\n",
      "537/537 [==============================] - 0s 74us/step - loss: 0.4204 - acc: 0.8082\n",
      "Epoch 135/400\n",
      "537/537 [==============================] - 0s 60us/step - loss: 0.4201 - acc: 0.8082\n",
      "Epoch 136/400\n",
      "537/537 [==============================] - 0s 65us/step - loss: 0.4204 - acc: 0.8063\n",
      "Epoch 137/400\n",
      "537/537 [==============================] - 0s 84us/step - loss: 0.4197 - acc: 0.8082\n",
      "Epoch 138/400\n",
      "537/537 [==============================] - 0s 65us/step - loss: 0.4200 - acc: 0.8063\n",
      "Epoch 139/400\n",
      "537/537 [==============================] - 0s 78us/step - loss: 0.4194 - acc: 0.8082\n",
      "Epoch 140/400\n",
      "537/537 [==============================] - 0s 73us/step - loss: 0.4190 - acc: 0.8082\n",
      "Epoch 141/400\n",
      "537/537 [==============================] - 0s 67us/step - loss: 0.4191 - acc: 0.8082\n",
      "Epoch 142/400\n",
      "537/537 [==============================] - 0s 65us/step - loss: 0.4194 - acc: 0.8101\n",
      "Epoch 143/400\n",
      "537/537 [==============================] - 0s 63us/step - loss: 0.4191 - acc: 0.8082\n",
      "Epoch 144/400\n",
      "537/537 [==============================] - 0s 71us/step - loss: 0.4195 - acc: 0.8101\n",
      "Epoch 145/400\n",
      "537/537 [==============================] - 0s 69us/step - loss: 0.4186 - acc: 0.8101\n",
      "Epoch 146/400\n",
      "537/537 [==============================] - 0s 67us/step - loss: 0.4181 - acc: 0.8063\n",
      "Epoch 147/400\n",
      "537/537 [==============================] - 0s 63us/step - loss: 0.4185 - acc: 0.8119\n",
      "Epoch 148/400\n",
      "537/537 [==============================] - 0s 65us/step - loss: 0.4183 - acc: 0.8119\n",
      "Epoch 149/400\n",
      "537/537 [==============================] - 0s 67us/step - loss: 0.4183 - acc: 0.8101\n",
      "Epoch 150/400\n",
      "537/537 [==============================] - 0s 67us/step - loss: 0.4180 - acc: 0.8082\n",
      "Epoch 151/400\n",
      "537/537 [==============================] - 0s 63us/step - loss: 0.4181 - acc: 0.8082\n",
      "Epoch 152/400\n",
      "537/537 [==============================] - 0s 67us/step - loss: 0.4180 - acc: 0.8119\n",
      "Epoch 153/400\n",
      "537/537 [==============================] - 0s 63us/step - loss: 0.4175 - acc: 0.8119\n",
      "Epoch 154/400\n",
      "537/537 [==============================] - 0s 65us/step - loss: 0.4173 - acc: 0.8119\n",
      "Epoch 155/400\n",
      "537/537 [==============================] - 0s 65us/step - loss: 0.4173 - acc: 0.8101\n",
      "Epoch 156/400\n",
      "537/537 [==============================] - 0s 71us/step - loss: 0.4173 - acc: 0.8119\n",
      "Epoch 157/400\n",
      "537/537 [==============================] - 0s 63us/step - loss: 0.4171 - acc: 0.8119\n",
      "Epoch 158/400\n",
      "537/537 [==============================] - 0s 76us/step - loss: 0.4179 - acc: 0.8119\n",
      "Epoch 159/400\n",
      "537/537 [==============================] - 0s 76us/step - loss: 0.4172 - acc: 0.8119\n",
      "Epoch 160/400\n",
      "537/537 [==============================] - 0s 71us/step - loss: 0.4173 - acc: 0.8138\n",
      "Epoch 161/400\n",
      "537/537 [==============================] - 0s 71us/step - loss: 0.4173 - acc: 0.8119\n",
      "Epoch 162/400\n",
      "537/537 [==============================] - 0s 63us/step - loss: 0.4164 - acc: 0.8119\n",
      "Epoch 163/400\n",
      "537/537 [==============================] - 0s 67us/step - loss: 0.4168 - acc: 0.8119\n",
      "Epoch 164/400\n",
      "537/537 [==============================] - 0s 65us/step - loss: 0.4173 - acc: 0.8119\n",
      "Epoch 165/400\n",
      "537/537 [==============================] - 0s 67us/step - loss: 0.4165 - acc: 0.8119\n"
     ]
    },
    {
     "name": "stdout",
     "output_type": "stream",
     "text": [
      "Epoch 166/400\n",
      "537/537 [==============================] - 0s 73us/step - loss: 0.4166 - acc: 0.8119\n",
      "Epoch 167/400\n",
      "537/537 [==============================] - 0s 69us/step - loss: 0.4165 - acc: 0.8101\n",
      "Epoch 168/400\n",
      "537/537 [==============================] - 0s 63us/step - loss: 0.4161 - acc: 0.8119\n",
      "Epoch 169/400\n",
      "537/537 [==============================] - 0s 65us/step - loss: 0.4170 - acc: 0.8119\n",
      "Epoch 170/400\n",
      "537/537 [==============================] - 0s 71us/step - loss: 0.4156 - acc: 0.8119\n",
      "Epoch 171/400\n",
      "537/537 [==============================] - 0s 67us/step - loss: 0.4161 - acc: 0.8138\n",
      "Epoch 172/400\n",
      "537/537 [==============================] - 0s 65us/step - loss: 0.4155 - acc: 0.8101\n",
      "Epoch 173/400\n",
      "537/537 [==============================] - 0s 69us/step - loss: 0.4159 - acc: 0.8119\n",
      "Epoch 174/400\n",
      "537/537 [==============================] - 0s 76us/step - loss: 0.4153 - acc: 0.8119\n",
      "Epoch 175/400\n",
      "537/537 [==============================] - 0s 69us/step - loss: 0.4155 - acc: 0.8138\n",
      "Epoch 176/400\n",
      "537/537 [==============================] - 0s 67us/step - loss: 0.4158 - acc: 0.8119\n",
      "Epoch 177/400\n",
      "537/537 [==============================] - 0s 71us/step - loss: 0.4154 - acc: 0.8119\n",
      "Epoch 178/400\n",
      "537/537 [==============================] - 0s 63us/step - loss: 0.4157 - acc: 0.8119\n",
      "Epoch 179/400\n",
      "537/537 [==============================] - 0s 74us/step - loss: 0.4155 - acc: 0.8119\n",
      "Epoch 180/400\n",
      "537/537 [==============================] - 0s 78us/step - loss: 0.4149 - acc: 0.8101\n",
      "Epoch 181/400\n",
      "537/537 [==============================] - 0s 76us/step - loss: 0.4155 - acc: 0.8119\n",
      "Epoch 182/400\n",
      "537/537 [==============================] - 0s 87us/step - loss: 0.4163 - acc: 0.8119\n",
      "Epoch 183/400\n",
      "537/537 [==============================] - 0s 71us/step - loss: 0.4147 - acc: 0.8119\n",
      "Epoch 184/400\n",
      "537/537 [==============================] - 0s 78us/step - loss: 0.4147 - acc: 0.8101\n",
      "Epoch 185/400\n",
      "537/537 [==============================] - 0s 65us/step - loss: 0.4147 - acc: 0.8119\n",
      "Epoch 186/400\n",
      "537/537 [==============================] - 0s 65us/step - loss: 0.4150 - acc: 0.8119\n",
      "Epoch 187/400\n",
      "537/537 [==============================] - 0s 65us/step - loss: 0.4154 - acc: 0.8119\n",
      "Epoch 188/400\n",
      "537/537 [==============================] - 0s 71us/step - loss: 0.4147 - acc: 0.8119\n",
      "Epoch 189/400\n",
      "537/537 [==============================] - 0s 74us/step - loss: 0.4147 - acc: 0.8138\n",
      "Epoch 190/400\n",
      "537/537 [==============================] - 0s 82us/step - loss: 0.4156 - acc: 0.8119\n",
      "Epoch 191/400\n",
      "537/537 [==============================] - 0s 67us/step - loss: 0.4147 - acc: 0.8101\n",
      "Epoch 192/400\n",
      "537/537 [==============================] - 0s 74us/step - loss: 0.4144 - acc: 0.8119\n",
      "Epoch 193/400\n",
      "537/537 [==============================] - 0s 61us/step - loss: 0.4149 - acc: 0.8138\n",
      "Epoch 194/400\n",
      "537/537 [==============================] - 0s 67us/step - loss: 0.4144 - acc: 0.8101\n",
      "Epoch 195/400\n",
      "537/537 [==============================] - 0s 67us/step - loss: 0.4155 - acc: 0.8082\n",
      "Epoch 196/400\n",
      "537/537 [==============================] - 0s 69us/step - loss: 0.4140 - acc: 0.8101\n",
      "Epoch 197/400\n",
      "537/537 [==============================] - 0s 74us/step - loss: 0.4144 - acc: 0.8119\n",
      "Epoch 198/400\n",
      "537/537 [==============================] - 0s 69us/step - loss: 0.4141 - acc: 0.8101\n",
      "Epoch 199/400\n",
      "537/537 [==============================] - 0s 70us/step - loss: 0.4141 - acc: 0.8119\n",
      "Epoch 200/400\n",
      "537/537 [==============================] - 0s 80us/step - loss: 0.4145 - acc: 0.8138\n",
      "Epoch 201/400\n",
      "537/537 [==============================] - 0s 78us/step - loss: 0.4140 - acc: 0.8101\n",
      "Epoch 202/400\n",
      "537/537 [==============================] - 0s 89us/step - loss: 0.4141 - acc: 0.8119\n",
      "Epoch 203/400\n",
      "537/537 [==============================] - 0s 84us/step - loss: 0.4139 - acc: 0.8138\n",
      "Epoch 204/400\n",
      "537/537 [==============================] - 0s 86us/step - loss: 0.4144 - acc: 0.8101\n",
      "Epoch 205/400\n",
      "537/537 [==============================] - 0s 69us/step - loss: 0.4137 - acc: 0.8119\n",
      "Epoch 206/400\n",
      "537/537 [==============================] - 0s 74us/step - loss: 0.4138 - acc: 0.8101\n",
      "Epoch 207/400\n",
      "537/537 [==============================] - 0s 67us/step - loss: 0.4136 - acc: 0.8138\n",
      "Epoch 208/400\n",
      "537/537 [==============================] - 0s 61us/step - loss: 0.4139 - acc: 0.8119\n",
      "Epoch 209/400\n",
      "537/537 [==============================] - 0s 74us/step - loss: 0.4137 - acc: 0.8138\n",
      "Epoch 210/400\n",
      "537/537 [==============================] - 0s 69us/step - loss: 0.4134 - acc: 0.8119\n",
      "Epoch 211/400\n",
      "537/537 [==============================] - 0s 71us/step - loss: 0.4133 - acc: 0.8119\n",
      "Epoch 212/400\n",
      "537/537 [==============================] - 0s 67us/step - loss: 0.4135 - acc: 0.8138\n",
      "Epoch 213/400\n",
      "537/537 [==============================] - 0s 69us/step - loss: 0.4133 - acc: 0.8119\n",
      "Epoch 214/400\n",
      "537/537 [==============================] - 0s 61us/step - loss: 0.4134 - acc: 0.8101\n",
      "Epoch 215/400\n",
      "537/537 [==============================] - 0s 67us/step - loss: 0.4138 - acc: 0.8119\n",
      "Epoch 216/400\n",
      "537/537 [==============================] - 0s 67us/step - loss: 0.4132 - acc: 0.8138\n",
      "Epoch 217/400\n",
      "537/537 [==============================] - 0s 67us/step - loss: 0.4137 - acc: 0.8138\n",
      "Epoch 218/400\n",
      "537/537 [==============================] - 0s 71us/step - loss: 0.4141 - acc: 0.8101\n",
      "Epoch 219/400\n",
      "537/537 [==============================] - 0s 71us/step - loss: 0.4135 - acc: 0.8138\n",
      "Epoch 220/400\n",
      "537/537 [==============================] - 0s 65us/step - loss: 0.4131 - acc: 0.8119\n",
      "Epoch 221/400\n",
      "537/537 [==============================] - 0s 65us/step - loss: 0.4129 - acc: 0.8119\n",
      "Epoch 222/400\n",
      "537/537 [==============================] - ETA: 0s - loss: 0.5627 - acc: 0.750 - 0s 80us/step - loss: 0.4128 - acc: 0.8138\n",
      "Epoch 223/400\n",
      "537/537 [==============================] - 0s 65us/step - loss: 0.4133 - acc: 0.8119\n",
      "Epoch 224/400\n",
      "537/537 [==============================] - 0s 65us/step - loss: 0.4129 - acc: 0.8138\n",
      "Epoch 225/400\n",
      "537/537 [==============================] - 0s 65us/step - loss: 0.4143 - acc: 0.8119\n",
      "Epoch 226/400\n",
      "537/537 [==============================] - 0s 69us/step - loss: 0.4131 - acc: 0.8119\n",
      "Epoch 227/400\n",
      "537/537 [==============================] - 0s 61us/step - loss: 0.4130 - acc: 0.8119\n",
      "Epoch 228/400\n",
      "537/537 [==============================] - 0s 61us/step - loss: 0.4135 - acc: 0.8119\n",
      "Epoch 229/400\n",
      "537/537 [==============================] - 0s 61us/step - loss: 0.4126 - acc: 0.8138\n",
      "Epoch 230/400\n",
      "537/537 [==============================] - 0s 65us/step - loss: 0.4132 - acc: 0.8101\n",
      "Epoch 231/400\n",
      "537/537 [==============================] - 0s 67us/step - loss: 0.4129 - acc: 0.8138\n",
      "Epoch 232/400\n",
      "537/537 [==============================] - 0s 73us/step - loss: 0.4128 - acc: 0.8138\n",
      "Epoch 233/400\n",
      "537/537 [==============================] - 0s 91us/step - loss: 0.4126 - acc: 0.8138\n",
      "Epoch 234/400\n",
      "537/537 [==============================] - 0s 76us/step - loss: 0.4128 - acc: 0.8138\n",
      "Epoch 235/400\n",
      "537/537 [==============================] - 0s 69us/step - loss: 0.4134 - acc: 0.8101\n",
      "Epoch 236/400\n",
      "537/537 [==============================] - 0s 86us/step - loss: 0.4130 - acc: 0.8138\n",
      "Epoch 237/400\n",
      "537/537 [==============================] - 0s 78us/step - loss: 0.4126 - acc: 0.8119\n",
      "Epoch 238/400\n",
      "537/537 [==============================] - 0s 76us/step - loss: 0.4127 - acc: 0.8138\n",
      "Epoch 239/400\n",
      "537/537 [==============================] - 0s 78us/step - loss: 0.4126 - acc: 0.8119\n",
      "Epoch 240/400\n",
      "537/537 [==============================] - 0s 95us/step - loss: 0.4134 - acc: 0.8119\n",
      "Epoch 241/400\n",
      "537/537 [==============================] - 0s 125us/step - loss: 0.4131 - acc: 0.8138\n",
      "Epoch 242/400\n",
      "537/537 [==============================] - 0s 97us/step - loss: 0.4131 - acc: 0.8138\n",
      "Epoch 243/400\n",
      "537/537 [==============================] - 0s 82us/step - loss: 0.4126 - acc: 0.8119\n",
      "Epoch 244/400\n",
      "537/537 [==============================] - 0s 80us/step - loss: 0.4126 - acc: 0.8138\n",
      "Epoch 245/400\n",
      "537/537 [==============================] - 0s 93us/step - loss: 0.4130 - acc: 0.8138\n",
      "Epoch 246/400\n",
      "537/537 [==============================] - 0s 99us/step - loss: 0.4127 - acc: 0.8138\n",
      "Epoch 247/400\n",
      "537/537 [==============================] - 0s 91us/step - loss: 0.4124 - acc: 0.8138\n",
      "Epoch 248/400\n",
      "537/537 [==============================] - 0s 91us/step - loss: 0.4123 - acc: 0.8138\n",
      "Epoch 249/400\n",
      "537/537 [==============================] - ETA: 0s - loss: 0.3961 - acc: 0.800 - 0s 89us/step - loss: 0.4130 - acc: 0.8119\n",
      "Epoch 250/400\n",
      "537/537 [==============================] - 0s 78us/step - loss: 0.4127 - acc: 0.8119\n",
      "Epoch 251/400\n",
      "537/537 [==============================] - 0s 76us/step - loss: 0.4125 - acc: 0.8101\n",
      "Epoch 252/400\n",
      "537/537 [==============================] - 0s 76us/step - loss: 0.4121 - acc: 0.8138\n",
      "Epoch 253/400\n",
      "537/537 [==============================] - 0s 76us/step - loss: 0.4124 - acc: 0.8138\n",
      "Epoch 254/400\n",
      "537/537 [==============================] - 0s 63us/step - loss: 0.4138 - acc: 0.8138\n",
      "Epoch 255/400\n",
      "537/537 [==============================] - 0s 65us/step - loss: 0.4121 - acc: 0.8138\n",
      "Epoch 256/400\n",
      "537/537 [==============================] - 0s 61us/step - loss: 0.4126 - acc: 0.8138\n",
      "Epoch 257/400\n",
      "537/537 [==============================] - 0s 69us/step - loss: 0.4122 - acc: 0.8138\n",
      "Epoch 258/400\n",
      "537/537 [==============================] - 0s 78us/step - loss: 0.4121 - acc: 0.8138\n",
      "Epoch 259/400\n",
      "537/537 [==============================] - 0s 78us/step - loss: 0.4125 - acc: 0.8138\n",
      "Epoch 260/400\n",
      "537/537 [==============================] - 0s 73us/step - loss: 0.4127 - acc: 0.8138\n",
      "Epoch 261/400\n",
      "537/537 [==============================] - 0s 65us/step - loss: 0.4129 - acc: 0.8138\n",
      "Epoch 262/400\n",
      "537/537 [==============================] - 0s 65us/step - loss: 0.4124 - acc: 0.8119\n",
      "Epoch 263/400\n",
      "537/537 [==============================] - 0s 67us/step - loss: 0.4121 - acc: 0.8138\n",
      "Epoch 264/400\n",
      "537/537 [==============================] - 0s 67us/step - loss: 0.4118 - acc: 0.8138\n",
      "Epoch 265/400\n",
      "537/537 [==============================] - 0s 63us/step - loss: 0.4124 - acc: 0.8138\n",
      "Epoch 266/400\n",
      "537/537 [==============================] - 0s 65us/step - loss: 0.4119 - acc: 0.8138\n",
      "Epoch 267/400\n",
      "537/537 [==============================] - 0s 65us/step - loss: 0.4119 - acc: 0.8138\n",
      "Epoch 268/400\n",
      "537/537 [==============================] - 0s 65us/step - loss: 0.4118 - acc: 0.8119\n",
      "Epoch 269/400\n",
      "537/537 [==============================] - 0s 67us/step - loss: 0.4121 - acc: 0.8138\n",
      "Epoch 270/400\n",
      "537/537 [==============================] - 0s 65us/step - loss: 0.4117 - acc: 0.8138\n",
      "Epoch 271/400\n",
      "537/537 [==============================] - 0s 67us/step - loss: 0.4118 - acc: 0.8138\n",
      "Epoch 272/400\n",
      "537/537 [==============================] - 0s 65us/step - loss: 0.4118 - acc: 0.8138\n",
      "Epoch 273/400\n",
      "537/537 [==============================] - 0s 71us/step - loss: 0.4116 - acc: 0.8156\n",
      "Epoch 274/400\n",
      "537/537 [==============================] - 0s 73us/step - loss: 0.4120 - acc: 0.8101\n",
      "Epoch 275/400\n",
      "537/537 [==============================] - 0s 63us/step - loss: 0.4119 - acc: 0.8119\n",
      "Epoch 276/400\n",
      "537/537 [==============================] - 0s 67us/step - loss: 0.4118 - acc: 0.8138\n",
      "Epoch 277/400\n",
      "537/537 [==============================] - 0s 65us/step - loss: 0.4119 - acc: 0.8138\n",
      "Epoch 278/400\n",
      "537/537 [==============================] - 0s 82us/step - loss: 0.4119 - acc: 0.8138\n",
      "Epoch 279/400\n",
      "537/537 [==============================] - 0s 93us/step - loss: 0.4118 - acc: 0.8082\n",
      "Epoch 280/400\n",
      "537/537 [==============================] - 0s 91us/step - loss: 0.4116 - acc: 0.8119\n",
      "Epoch 281/400\n",
      "537/537 [==============================] - 0s 110us/step - loss: 0.4115 - acc: 0.8138\n",
      "Epoch 282/400\n",
      "537/537 [==============================] - 0s 80us/step - loss: 0.4113 - acc: 0.8138\n",
      "Epoch 283/400\n",
      "537/537 [==============================] - 0s 114us/step - loss: 0.4114 - acc: 0.8138\n",
      "Epoch 284/400\n",
      "537/537 [==============================] - 0s 100us/step - loss: 0.4114 - acc: 0.8119\n",
      "Epoch 285/400\n",
      "537/537 [==============================] - 0s 84us/step - loss: 0.4127 - acc: 0.8101\n",
      "Epoch 286/400\n",
      "537/537 [==============================] - 0s 93us/step - loss: 0.4113 - acc: 0.8101\n",
      "Epoch 287/400\n",
      "537/537 [==============================] - 0s 86us/step - loss: 0.4116 - acc: 0.8138\n",
      "Epoch 288/400\n",
      "537/537 [==============================] - 0s 74us/step - loss: 0.4114 - acc: 0.8119\n",
      "Epoch 289/400\n",
      "537/537 [==============================] - 0s 74us/step - loss: 0.4113 - acc: 0.8082\n",
      "Epoch 290/400\n",
      "537/537 [==============================] - 0s 69us/step - loss: 0.4111 - acc: 0.8138\n",
      "Epoch 291/400\n",
      "537/537 [==============================] - 0s 78us/step - loss: 0.4110 - acc: 0.8138\n",
      "Epoch 292/400\n",
      "537/537 [==============================] - 0s 69us/step - loss: 0.4112 - acc: 0.8138\n",
      "Epoch 293/400\n",
      "537/537 [==============================] - 0s 71us/step - loss: 0.4112 - acc: 0.8119\n",
      "Epoch 294/400\n",
      "537/537 [==============================] - 0s 73us/step - loss: 0.4128 - acc: 0.8156\n",
      "Epoch 295/400\n",
      "537/537 [==============================] - 0s 69us/step - loss: 0.4104 - acc: 0.8119\n",
      "Epoch 296/400\n",
      "537/537 [==============================] - 0s 67us/step - loss: 0.4110 - acc: 0.8101\n",
      "Epoch 297/400\n",
      "537/537 [==============================] - 0s 67us/step - loss: 0.4116 - acc: 0.8101\n",
      "Epoch 298/400\n",
      "537/537 [==============================] - 0s 69us/step - loss: 0.4113 - acc: 0.8138\n",
      "Epoch 299/400\n",
      "537/537 [==============================] - 0s 67us/step - loss: 0.4108 - acc: 0.8138\n",
      "Epoch 300/400\n",
      "537/537 [==============================] - 0s 67us/step - loss: 0.4107 - acc: 0.8119\n",
      "Epoch 301/400\n",
      "537/537 [==============================] - 0s 67us/step - loss: 0.4115 - acc: 0.8156\n",
      "Epoch 302/400\n",
      "537/537 [==============================] - 0s 74us/step - loss: 0.4108 - acc: 0.8119\n",
      "Epoch 303/400\n",
      "537/537 [==============================] - 0s 71us/step - loss: 0.4106 - acc: 0.8156\n",
      "Epoch 304/400\n",
      "537/537 [==============================] - 0s 106us/step - loss: 0.4113 - acc: 0.8101\n",
      "Epoch 305/400\n",
      "537/537 [==============================] - 0s 80us/step - loss: 0.4112 - acc: 0.8138\n",
      "Epoch 306/400\n",
      "537/537 [==============================] - 0s 90us/step - loss: 0.4111 - acc: 0.8119\n",
      "Epoch 307/400\n",
      "537/537 [==============================] - 0s 89us/step - loss: 0.4110 - acc: 0.8138\n",
      "Epoch 308/400\n",
      "537/537 [==============================] - 0s 89us/step - loss: 0.4106 - acc: 0.8138\n",
      "Epoch 309/400\n",
      "537/537 [==============================] - 0s 86us/step - loss: 0.4105 - acc: 0.8138\n",
      "Epoch 310/400\n",
      "537/537 [==============================] - 0s 86us/step - loss: 0.4107 - acc: 0.8138\n",
      "Epoch 311/400\n",
      "537/537 [==============================] - 0s 91us/step - loss: 0.4104 - acc: 0.8138\n",
      "Epoch 312/400\n",
      "537/537 [==============================] - 0s 82us/step - loss: 0.4106 - acc: 0.8119\n",
      "Epoch 313/400\n",
      "537/537 [==============================] - 0s 87us/step - loss: 0.4108 - acc: 0.8138\n",
      "Epoch 314/400\n",
      "537/537 [==============================] - 0s 91us/step - loss: 0.4104 - acc: 0.8119\n",
      "Epoch 315/400\n",
      "537/537 [==============================] - 0s 102us/step - loss: 0.4111 - acc: 0.8138\n",
      "Epoch 316/400\n",
      "537/537 [==============================] - 0s 84us/step - loss: 0.4106 - acc: 0.8138\n",
      "Epoch 317/400\n",
      "537/537 [==============================] - 0s 233us/step - loss: 0.4106 - acc: 0.8138\n",
      "Epoch 318/400\n",
      "537/537 [==============================] - 0s 208us/step - loss: 0.4108 - acc: 0.8138\n",
      "Epoch 319/400\n",
      "537/537 [==============================] - 0s 240us/step - loss: 0.4106 - acc: 0.8156\n",
      "Epoch 320/400\n",
      "537/537 [==============================] - 0s 210us/step - loss: 0.4103 - acc: 0.8119\n",
      "Epoch 321/400\n",
      "537/537 [==============================] - 0s 130us/step - loss: 0.4105 - acc: 0.8138\n",
      "Epoch 322/400\n",
      "537/537 [==============================] - 0s 143us/step - loss: 0.4107 - acc: 0.8138\n",
      "Epoch 323/400\n",
      "537/537 [==============================] - 0s 186us/step - loss: 0.4108 - acc: 0.8156\n",
      "Epoch 324/400\n",
      "537/537 [==============================] - 0s 138us/step - loss: 0.4104 - acc: 0.8138\n",
      "Epoch 325/400\n",
      "537/537 [==============================] - 0s 155us/step - loss: 0.4109 - acc: 0.8101\n",
      "Epoch 326/400\n",
      "537/537 [==============================] - 0s 138us/step - loss: 0.4107 - acc: 0.8119\n",
      "Epoch 327/400\n",
      "537/537 [==============================] - 0s 134us/step - loss: 0.4106 - acc: 0.8138\n",
      "Epoch 328/400\n",
      "537/537 [==============================] - 0s 141us/step - loss: 0.4107 - acc: 0.8119\n",
      "Epoch 329/400\n",
      "537/537 [==============================] - 0s 171us/step - loss: 0.4105 - acc: 0.8156\n",
      "Epoch 330/400\n"
     ]
    },
    {
     "name": "stdout",
     "output_type": "stream",
     "text": [
      "537/537 [==============================] - 0s 132us/step - loss: 0.4102 - acc: 0.8156\n",
      "Epoch 331/400\n",
      "537/537 [==============================] - 0s 166us/step - loss: 0.4113 - acc: 0.8101\n",
      "Epoch 332/400\n",
      "537/537 [==============================] - 0s 125us/step - loss: 0.4105 - acc: 0.8156\n",
      "Epoch 333/400\n",
      "537/537 [==============================] - 0s 149us/step - loss: 0.4107 - acc: 0.8156\n",
      "Epoch 334/400\n",
      "537/537 [==============================] - 0s 130us/step - loss: 0.4103 - acc: 0.8156\n",
      "Epoch 335/400\n",
      "537/537 [==============================] - 0s 115us/step - loss: 0.4104 - acc: 0.8119\n",
      "Epoch 336/400\n",
      "537/537 [==============================] - 0s 127us/step - loss: 0.4102 - acc: 0.8156\n",
      "Epoch 337/400\n",
      "537/537 [==============================] - 0s 112us/step - loss: 0.4104 - acc: 0.8156\n",
      "Epoch 338/400\n",
      "537/537 [==============================] - 0s 128us/step - loss: 0.4104 - acc: 0.8156\n",
      "Epoch 339/400\n",
      "537/537 [==============================] - 0s 110us/step - loss: 0.4106 - acc: 0.8119\n",
      "Epoch 340/400\n",
      "537/537 [==============================] - 0s 91us/step - loss: 0.4100 - acc: 0.8156\n",
      "Epoch 341/400\n",
      "537/537 [==============================] - 0s 87us/step - loss: 0.4100 - acc: 0.8175\n",
      "Epoch 342/400\n",
      "537/537 [==============================] - 0s 87us/step - loss: 0.4101 - acc: 0.8156\n",
      "Epoch 343/400\n",
      "537/537 [==============================] - 0s 76us/step - loss: 0.4102 - acc: 0.8156\n",
      "Epoch 344/400\n",
      "537/537 [==============================] - 0s 80us/step - loss: 0.4099 - acc: 0.8138\n",
      "Epoch 345/400\n",
      "537/537 [==============================] - 0s 73us/step - loss: 0.4104 - acc: 0.8119\n",
      "Epoch 346/400\n",
      "537/537 [==============================] - 0s 140us/step - loss: 0.4108 - acc: 0.8119\n",
      "Epoch 347/400\n",
      "537/537 [==============================] - 0s 182us/step - loss: 0.4101 - acc: 0.8119\n",
      "Epoch 348/400\n",
      "537/537 [==============================] - 0s 130us/step - loss: 0.4103 - acc: 0.8156\n",
      "Epoch 349/400\n",
      "537/537 [==============================] - 0s 141us/step - loss: 0.4101 - acc: 0.8138\n",
      "Epoch 350/400\n",
      "537/537 [==============================] - 0s 102us/step - loss: 0.4104 - acc: 0.8156\n",
      "Epoch 351/400\n",
      "537/537 [==============================] - 0s 121us/step - loss: 0.4104 - acc: 0.8138\n",
      "Epoch 352/400\n",
      "537/537 [==============================] - 0s 145us/step - loss: 0.4104 - acc: 0.8119\n",
      "Epoch 353/400\n",
      "537/537 [==============================] - 0s 149us/step - loss: 0.4101 - acc: 0.8175\n",
      "Epoch 354/400\n",
      "537/537 [==============================] - 0s 123us/step - loss: 0.4100 - acc: 0.8138\n",
      "Epoch 355/400\n",
      "537/537 [==============================] - 0s 95us/step - loss: 0.4105 - acc: 0.8175\n",
      "Epoch 356/400\n",
      "537/537 [==============================] - 0s 130us/step - loss: 0.4103 - acc: 0.8119\n",
      "Epoch 357/400\n",
      "537/537 [==============================] - 0s 119us/step - loss: 0.4094 - acc: 0.8138\n",
      "Epoch 358/400\n",
      "537/537 [==============================] - 0s 125us/step - loss: 0.4100 - acc: 0.8175\n",
      "Epoch 359/400\n",
      "537/537 [==============================] - 0s 132us/step - loss: 0.4100 - acc: 0.8156\n",
      "Epoch 360/400\n",
      "537/537 [==============================] - 0s 134us/step - loss: 0.4103 - acc: 0.8119\n",
      "Epoch 361/400\n",
      "537/537 [==============================] - 0s 153us/step - loss: 0.4113 - acc: 0.8156\n",
      "Epoch 362/400\n",
      "537/537 [==============================] - 0s 138us/step - loss: 0.4100 - acc: 0.8138\n",
      "Epoch 363/400\n",
      "537/537 [==============================] - 0s 143us/step - loss: 0.4103 - acc: 0.8119\n",
      "Epoch 364/400\n",
      "537/537 [==============================] - 0s 176us/step - loss: 0.4100 - acc: 0.8138\n",
      "Epoch 365/400\n",
      "537/537 [==============================] - 0s 149us/step - loss: 0.4107 - acc: 0.8156\n",
      "Epoch 366/400\n",
      "537/537 [==============================] - 0s 182us/step - loss: 0.4096 - acc: 0.8156\n",
      "Epoch 367/400\n",
      "537/537 [==============================] - 0s 138us/step - loss: 0.4104 - acc: 0.8175\n",
      "Epoch 368/400\n",
      "537/537 [==============================] - 0s 175us/step - loss: 0.4100 - acc: 0.8156\n",
      "Epoch 369/400\n",
      "537/537 [==============================] - 0s 147us/step - loss: 0.4104 - acc: 0.8119\n",
      "Epoch 370/400\n",
      "537/537 [==============================] - 0s 141us/step - loss: 0.4103 - acc: 0.8156\n",
      "Epoch 371/400\n",
      "537/537 [==============================] - 0s 162us/step - loss: 0.4096 - acc: 0.8156\n",
      "Epoch 372/400\n",
      "537/537 [==============================] - 0s 158us/step - loss: 0.4096 - acc: 0.8138\n",
      "Epoch 373/400\n",
      "537/537 [==============================] - 0s 166us/step - loss: 0.4098 - acc: 0.8119\n",
      "Epoch 374/400\n",
      "537/537 [==============================] - 0s 137us/step - loss: 0.4098 - acc: 0.8138\n",
      "Epoch 375/400\n",
      "537/537 [==============================] - 0s 203us/step - loss: 0.4105 - acc: 0.8156\n",
      "Epoch 376/400\n",
      "537/537 [==============================] - 0s 227us/step - loss: 0.4105 - acc: 0.8138\n",
      "Epoch 377/400\n",
      "537/537 [==============================] - 0s 140us/step - loss: 0.4099 - acc: 0.8138\n",
      "Epoch 378/400\n",
      "537/537 [==============================] - 0s 134us/step - loss: 0.4093 - acc: 0.8156\n",
      "Epoch 379/400\n",
      "537/537 [==============================] - 0s 147us/step - loss: 0.4099 - acc: 0.8156\n",
      "Epoch 380/400\n",
      "537/537 [==============================] - 0s 177us/step - loss: 0.4097 - acc: 0.8156\n",
      "Epoch 381/400\n",
      "537/537 [==============================] - 0s 147us/step - loss: 0.4103 - acc: 0.8138\n",
      "Epoch 382/400\n",
      "537/537 [==============================] - 0s 168us/step - loss: 0.4097 - acc: 0.8119\n",
      "Epoch 383/400\n",
      "537/537 [==============================] - 0s 156us/step - loss: 0.4103 - acc: 0.8138\n",
      "Epoch 384/400\n",
      "537/537 [==============================] - 0s 141us/step - loss: 0.4095 - acc: 0.8138\n",
      "Epoch 385/400\n",
      "537/537 [==============================] - 0s 186us/step - loss: 0.4093 - acc: 0.8156\n",
      "Epoch 386/400\n",
      "537/537 [==============================] - 0s 169us/step - loss: 0.4092 - acc: 0.8156\n",
      "Epoch 387/400\n",
      "537/537 [==============================] - 0s 132us/step - loss: 0.4096 - acc: 0.8138\n",
      "Epoch 388/400\n",
      "537/537 [==============================] - 0s 136us/step - loss: 0.4093 - acc: 0.8138\n",
      "Epoch 389/400\n",
      "537/537 [==============================] - 0s 151us/step - loss: 0.4092 - acc: 0.8138\n",
      "Epoch 390/400\n",
      "537/537 [==============================] - 0s 136us/step - loss: 0.4092 - acc: 0.8156\n",
      "Epoch 391/400\n",
      "537/537 [==============================] - 0s 136us/step - loss: 0.4100 - acc: 0.8119\n",
      "Epoch 392/400\n",
      "537/537 [==============================] - 0s 153us/step - loss: 0.4091 - acc: 0.8156\n",
      "Epoch 393/400\n",
      "537/537 [==============================] - 0s 162us/step - loss: 0.4097 - acc: 0.8138\n",
      "Epoch 394/400\n",
      "537/537 [==============================] - 0s 158us/step - loss: 0.4091 - acc: 0.8175\n",
      "Epoch 395/400\n",
      "537/537 [==============================] - 0s 156us/step - loss: 0.4095 - acc: 0.8175\n",
      "Epoch 396/400\n",
      "537/537 [==============================] - 0s 136us/step - loss: 0.4093 - acc: 0.8175\n",
      "Epoch 397/400\n",
      "537/537 [==============================] - 0s 175us/step - loss: 0.4091 - acc: 0.8119\n",
      "Epoch 398/400\n",
      "537/537 [==============================] - 0s 192us/step - loss: 0.4093 - acc: 0.8119\n",
      "Epoch 399/400\n",
      "537/537 [==============================] - 0s 149us/step - loss: 0.4090 - acc: 0.8119\n",
      "Epoch 400/400\n",
      "537/537 [==============================] - 0s 182us/step - loss: 0.4098 - acc: 0.8156\n"
     ]
    },
    {
     "data": {
      "text/plain": [
       "<keras.callbacks.History at 0x1a1cb704828>"
      ]
     },
     "execution_count": 178,
     "metadata": {},
     "output_type": "execute_result"
    }
   ],
   "source": [
    "#Training Our model\n",
    "model.fit(X_train,y_train,batch_size=20,epochs=400)"
   ]
  },
  {
   "cell_type": "code",
   "execution_count": 179,
   "metadata": {},
   "outputs": [],
   "source": [
    "#Making Prediction from our model \n",
    "predictions=model.predict(X_test)"
   ]
  },
  {
   "cell_type": "code",
   "execution_count": 180,
   "metadata": {},
   "outputs": [],
   "source": [
    "#converting the probablitiy obtained using the predict method to the binary output \n",
    "predictions=(predictions>0.5)"
   ]
  },
  {
   "cell_type": "code",
   "execution_count": 181,
   "metadata": {},
   "outputs": [
    {
     "name": "stdout",
     "output_type": "stream",
     "text": [
      "Confusion Matrix \n",
      " [[120  23]\n",
      " [ 42  46]]\n"
     ]
    }
   ],
   "source": [
    "#Importing the library and Evaluating the performance of our ANN Model on the test set\n",
    "from sklearn.metrics import confusion_matrix,classification_report,accuracy_score\n",
    "print('Confusion Matrix \\n',confusion_matrix(y_test,predictions))"
   ]
  },
  {
   "cell_type": "code",
   "execution_count": 182,
   "metadata": {},
   "outputs": [
    {
     "name": "stdout",
     "output_type": "stream",
     "text": [
      "Classification Report \n",
      "               precision    recall  f1-score   support\n",
      "\n",
      "           0       0.74      0.84      0.79       143\n",
      "           1       0.67      0.52      0.59        88\n",
      "\n",
      "   micro avg       0.72      0.72      0.72       231\n",
      "   macro avg       0.70      0.68      0.69       231\n",
      "weighted avg       0.71      0.72      0.71       231\n",
      "\n"
     ]
    }
   ],
   "source": [
    "#Printing the Classifcation Report\n",
    "print('Classification Report \\n',classification_report(y_test,predictions))"
   ]
  },
  {
   "cell_type": "code",
   "execution_count": 183,
   "metadata": {},
   "outputs": [
    {
     "name": "stdout",
     "output_type": "stream",
     "text": [
      "Accuracy of our mode when applied on test set- 0.7186147186147186\n"
     ]
    }
   ],
   "source": [
    "#Printing the Classifcation Report\n",
    "print('Accuracy of our mode when applied on test set-',accuracy_score(y_test,predictions))"
   ]
  },
  {
   "cell_type": "code",
   "execution_count": null,
   "metadata": {},
   "outputs": [],
   "source": []
  }
 ],
 "metadata": {
  "kernelspec": {
   "display_name": "Python 3",
   "language": "python",
   "name": "python3"
  },
  "language_info": {
   "codemirror_mode": {
    "name": "ipython",
    "version": 3
   },
   "file_extension": ".py",
   "mimetype": "text/x-python",
   "name": "python",
   "nbconvert_exporter": "python",
   "pygments_lexer": "ipython3",
   "version": "3.6.7"
  }
 },
 "nbformat": 4,
 "nbformat_minor": 2
}
